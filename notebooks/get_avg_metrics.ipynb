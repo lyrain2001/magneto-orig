{
 "cells": [
  {
   "cell_type": "code",
   "execution_count": null,
   "metadata": {},
   "outputs": [],
   "source": [
    "import pandas as pd\n",
    "import os"
   ]
  },
  {
   "cell_type": "code",
   "execution_count": null,
   "metadata": {},
   "outputs": [],
   "source": [
    "dataset = \"chembl\"\n",
    "dir_pth = f\"../{dataset}-all\""
   ]
  },
  {
   "cell_type": "code",
   "execution_count": 5,
   "metadata": {},
   "outputs": [
    {
     "name": "stdout",
     "output_type": "stream",
     "text": [
      "Average values saved to ../chembl-all/avg.csv\n"
     ]
    }
   ],
   "source": [
    "averages_df = pd.DataFrame()\n",
    "\n",
    "for file in os.listdir(dir_pth):\n",
    "    if file.endswith('.csv'):\n",
    "        file_path = os.path.join(dir_pth, file)\n",
    "        df = pd.read_csv(file_path)\n",
    "        mean_values = df.mean(numeric_only=True)\n",
    "        mean_values['filename'] = file.split('.')[0]\n",
    "        mean_df = pd.DataFrame([mean_values])\n",
    "        averages_df = pd.concat([averages_df, mean_df], ignore_index=True)\n",
    "\n",
    "column_order = ['filename'] + [col for col in averages_df.columns if col != 'filename']\n",
    "averages_df = averages_df[column_order]\n",
    "\n",
    "output_path = f'{dir_pth}/avg.csv'\n",
    "averages_df.to_csv(output_path, index=False)\n",
    "\n",
    "print(f\"Average values saved to {output_path}\")\n"
   ]
  }
 ],
 "metadata": {
  "kernelspec": {
   "display_name": "auto",
   "language": "python",
   "name": "python3"
  },
  "language_info": {
   "name": "python",
   "version": "3.10.13"
  }
 },
 "nbformat": 4,
 "nbformat_minor": 2
}
